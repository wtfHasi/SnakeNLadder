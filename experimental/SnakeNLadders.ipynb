{
 "cells": [
  {
   "cell_type": "code",
   "execution_count": 1,
   "id": "4f0884c6-e326-4bb0-b59a-a2ef9db4cab4",
   "metadata": {},
   "outputs": [
    {
     "name": "stdout",
     "output_type": "stream",
     "text": [
      "3.1.1\n"
     ]
    }
   ],
   "source": [
    "import mesa\n",
    "print(mesa.__version__)"
   ]
  },
  {
   "cell_type": "code",
   "execution_count": 2,
   "id": "b84f145a-9dfe-4659-bbec-8dc470cf8b1a",
   "metadata": {},
   "outputs": [
    {
     "data": {
      "application/javascript": [
       "\n",
       "                    window.jupyter_python_executable = '\\r\\r';\n",
       "                    window.jupyter_widget_checks_silent = true;\n",
       "                    window.jupyter_widget_checks_libraries = [{\"python\": \"ipyvuetify\", \"classic\": \"jupyter-vuetify/extension\", \"lab\": \"jupyter-vuetify\"}, {\"python\": \"ipyvue\", \"classic\": \"jupyter-vue/extension\", \"lab\": \"jupyter-vue\"}];\n",
       "                    "
      ],
      "text/plain": [
       "<IPython.core.display.Javascript object>"
      ]
     },
     "metadata": {},
     "output_type": "display_data"
    },
    {
     "data": {
      "text/html": [
       "<div class=\"jupyter-widget-checks-container\">\n",
       "    <script>\n",
       "        (function () {\n",
       "            console.log(\"Checking for jupyter-widgets extensions\")\n",
       "            const inLab = window._JUPYTERLAB !== undefined;\n",
       "            const silent = jupyter_widget_checks_silent;\n",
       "            const containers = document.getElementsByClassName('jupyter-widget-checks-container');\n",
       "            const rootEl = containers[containers.length - 1];\n",
       "            const libraries = window.jupyter_widget_checks_libraries;\n",
       "\n",
       "            function getBaseUrl() {\n",
       "                const labConfigData = document.getElementById(\"jupyter-config-data\");\n",
       "                if (labConfigData) {\n",
       "                    /* lab and Voila */\n",
       "                    return JSON.parse(labConfigData.textContent).baseUrl;\n",
       "                }\n",
       "                let base = document.body.dataset.baseUrl || document.baseURI;\n",
       "                return base;\n",
       "            }\n",
       "\n",
       "            function checkLibrary(extensions, library) {\n",
       "                let installed = false;\n",
       "                let ok = true;\n",
       "                if (inLab) {\n",
       "                    installed = _JUPYTERLAB[library.lab] !== undefined\n",
       "                } else {\n",
       "                    installed = extensions[library.classic] !== undefined;\n",
       "                    let enabled = extensions[library.classic] === true;\n",
       "                }\n",
       "                const div = document.createElement(\"div\")\n",
       "                if (installed) {\n",
       "                    if (!silent) {\n",
       "                        div.innerHTML = `Extension ${library.python} is installed at the server ✅`\n",
       "                        rootEl.appendChild(div)\n",
       "                    }\n",
       "                } else {\n",
       "                    div.innerHTML = `Extension ${library.python} is <b>NOT</b> installed at the server ❌.`\n",
       "                    rootEl.appendChild(div)\n",
       "                    ok = false;\n",
       "                }\n",
       "                return ok;\n",
       "            }\n",
       "\n",
       "            async function check() {\n",
       "                const url = `${getBaseUrl()}api/config/notebook`\n",
       "                const response = (await fetch(url));\n",
       "                const data = await response.json()\n",
       "                const extensions = data[\"load_extensions\"];\n",
       "                var ok = true;\n",
       "                let needsInstall = [];\n",
       "                libraries.forEach((library) => {\n",
       "                    if (!checkLibrary(extensions, library)) {\n",
       "                        ok = false;\n",
       "                        needsInstall.push(library.python)\n",
       "                        console.log(\"Needs install\", library.python)\n",
       "                    }\n",
       "                })\n",
       "                console.log(ok, needsInstall)\n",
       "                if (!ok) {\n",
       "                    const div = document.createElement(\"div\")\n",
       "                    const div2 = document.createElement(\"div\")\n",
       "                    div.innerHTML = `Run <code>${jupyter_python_executable} -m pip install ${needsInstall.join(\" \")}</code>. Refresh the page after installation.`\n",
       "                    div2.innerHTML = `Visit <a href=\"https://solara.dev/documentation/getting_started/troubleshoot\" target=\"_blank\">https://solara/dev/documentation/getting_started/troubleshoot</a> for more information.`\n",
       "                    rootEl.appendChild(div)\n",
       "                    rootEl.appendChild(div2)\n",
       "                }\n",
       "            }\n",
       "            check()\n",
       "        })();\n",
       "    </script>\n",
       "</div>\n"
      ],
      "text/plain": [
       "<IPython.core.display.HTML object>"
      ]
     },
     "metadata": {},
     "output_type": "display_data"
    }
   ],
   "source": [
    "# Data visualization tools.\n",
    "import seaborn as sns\n",
    "\n",
    "# Has multi-dimensional arrays and matrices. Has a large collection of\n",
    "# mathematical functions to operate on these arrays.\n",
    "import numpy as np\n",
    "\n",
    "# Data manipulation and analysis.\n",
    "import pandas as pd\n",
    "\n",
    "#Visualization\n",
    "from mesa.visualization import SolaraViz, make_plot_component, make_space_component\n",
    "\n",
    "#For Dice control\n",
    "import random"
   ]
  },
  {
   "cell_type": "code",
   "execution_count": 3,
   "id": "cb82fde5-3d2f-4047-a5d4-ea1f891ad21c",
   "metadata": {},
   "outputs": [],
   "source": [
    "#Dictionary\n",
    "snakes = {16: 6, 47: 26, 49: 11, 62: 19, 64: 60, 87: 24, 93: 73, 95: 75, 99: 78}\n",
    "ladders = {2: 38, 7: 14, 8: 31, 15: 26, 28: 84, 36: 44, 51: 67, 71: 91, 78: 98, 87: 94}"
   ]
  },
  {
   "cell_type": "code",
   "execution_count": 4,
   "id": "7302013f-6992-41aa-b552-3bd1cf4a830f",
   "metadata": {},
   "outputs": [],
   "source": [
    "class PlayerAgent(mesa.Agent):\n",
    "    def __init__(self, model):\n",
    "        super().__init__(model)\n",
    "        self.position = 1  # Start at position 1 (bottom-left of the board)\n",
    "        self.grid_pos = (0, 0)  # Start at (0, 0)\n",
    "\n",
    "    def roll_dice(self):\n",
    "        \"\"\"Roll a dice and return a number between 1 and 6.\"\"\"\n",
    "        return random.randint(1, 6)\n",
    "\n",
    "    def calculate_new_position(self, new_position):\n",
    "        \"\"\"Convert board position to grid coordinates.\"\"\"\n",
    "        row = (new_position - 1) // 10\n",
    "        col = (new_position - 1) % 10\n",
    "        if row % 2 == 1:  # Reverse direction for odd rows\n",
    "            col = 9 - col\n",
    "        return (col, row)\n",
    "\n",
    "    def move(self):\n",
    "        \"\"\"Move the player based on dice roll and handle snakes/ladders.\"\"\"\n",
    "        dice_roll = self.roll_dice()\n",
    "        new_position = self.position + dice_roll\n",
    "        if new_position > 100:\n",
    "            new_position = self.position  # Stay in the same position if roll exceeds 100\n",
    "\n",
    "        # Check for snakes or ladders\n",
    "        if new_position in self.model.snakes:\n",
    "            print(f\"Player {self.unique_id} encountered a snake at {new_position}! Sliding down...\")\n",
    "            new_position = self.model.snakes[new_position]\n",
    "        elif new_position in self.model.ladders:\n",
    "            print(f\"Player {self.unique_id} climbed a ladder at {new_position}!\")\n",
    "            new_position = self.model.ladders[new_position]\n",
    "\n",
    "        # Update position and grid\n",
    "        self.position = new_position\n",
    "        self.grid_pos = self.calculate_new_position(new_position)\n",
    "\n",
    "        # Move agent in the grid\n",
    "        self.model.grid.move_agent(self, self.grid_pos)\n",
    "        print(f\"Player {self.unique_id} rolled {dice_roll} and moved to position {self.position} ({self.grid_pos})\")\n",
    "\n",
    "    def step(self):\n",
    "        \"\"\"Define the player's actions for each step.\"\"\"\n",
    "        self.move()\n",
    "        if self.position == 100:\n",
    "            print(f\"Player {self.unique_id} wins!\")\n",
    "            self.model.winner = self.unique_id\n",
    "            self.model.running = False  # End the simulation"
   ]
  },
  {
   "cell_type": "code",
   "execution_count": 5,
   "id": "d9bc5147-cb43-43f7-b641-883c28cd7c27",
   "metadata": {},
   "outputs": [],
   "source": [
    "class SnakeAndLaddersModel(mesa.Model):\n",
    "    def __init__(self, num_players):\n",
    "        super().__init__()\n",
    "        self.num_players = num_players\n",
    "        self.grid = mesa.space.MultiGrid(10, 10, torus=False)  # 10x10 board\n",
    "        self.snakes = {16: 6, 47: 26, 49: 11, 62: 19, 64: 60, 87: 24, 93: 73, 95: 75, 99: 78}\n",
    "        self.ladders = {2: 38, 7: 14, 8: 31, 15: 26, 28: 84, 36: 44, 51: 67, 71: 91, 78: 98, 87: 94}\n",
    "        self.winner = None\n",
    "\n",
    "        self.player_agents = []  # Custom storage, not overwriting model.agents\n",
    "\n",
    "        # Add players to the model\n",
    "        for _ in range(self.num_players):\n",
    "            player = PlayerAgent(self)\n",
    "            self.player_agents.append(player)\n",
    "            self.grid.place_agent(player, (0, 0))  # Place agent at the start\n",
    "            print(f\"Player {player.unique_id} created\")  # Verify unique IDs\n",
    "\n",
    "    def step(self):\n",
    "        \"\"\"Advance the model by one step.\"\"\"\n",
    "        random.shuffle(self.player_agents)  # Shuffle players manually\n",
    "        for agent in self.player_agents:\n",
    "            agent.step()"
   ]
  },
  {
   "cell_type": "code",
   "execution_count": 6,
   "id": "8479659e-df98-4c35-bf75-50181378481a",
   "metadata": {
    "scrolled": true
   },
   "outputs": [
    {
     "name": "stdout",
     "output_type": "stream",
     "text": [
      "Player 1 created\n",
      "Player 2 created\n",
      "Starting Simulation...\n",
      "\n",
      "\n",
      "--- Step 1 ---\n",
      "Player 1 climbed a ladder at 2!\n",
      "Player 1 rolled 1 and moved to position 38 ((2, 3))\n",
      "Player 2 rolled 2 and moved to position 3 ((2, 0))\n",
      "\n",
      "--- Step 2 ---\n",
      "Player 2 rolled 3 and moved to position 6 ((5, 0))\n",
      "Player 1 rolled 4 and moved to position 42 ((1, 4))\n",
      "\n",
      "--- Step 3 ---\n",
      "Player 1 rolled 6 and moved to position 48 ((7, 4))\n",
      "Player 2 rolled 5 and moved to position 11 ((9, 1))\n",
      "\n",
      "--- Step 4 ---\n",
      "Player 1 climbed a ladder at 51!\n",
      "Player 1 rolled 3 and moved to position 67 ((6, 6))\n",
      "Player 2 encountered a snake at 16! Sliding down...\n",
      "Player 2 rolled 5 and moved to position 6 ((5, 0))\n",
      "\n",
      "--- Step 5 ---\n",
      "Player 1 rolled 5 and moved to position 72 ((8, 7))\n",
      "Player 2 rolled 4 and moved to position 10 ((9, 0))\n",
      "\n",
      "Simulation Complete.\n"
     ]
    }
   ],
   "source": [
    "# Create initial model instance with 2 players\n",
    "model1 = SnakeAndLaddersModel(num_players=2)\n",
    "\n",
    "# Run the model for a few steps to see the output\n",
    "print(\"Starting Simulation...\\n\")\n",
    "for i in range(5):  # Run 5 steps\n",
    "    print(f\"\\n--- Step {i+1} ---\")\n",
    "    model1.step()\n",
    "\n",
    "print(\"\\nSimulation Complete.\")"
   ]
  },
  {
   "cell_type": "code",
   "execution_count": 7,
   "id": "e2ecd139-b026-4bdd-bb88-beba2bf4f412",
   "metadata": {},
   "outputs": [],
   "source": [
    "def agent_portrayal(agent):\n",
    "    \"\"\"Defines how agents are visualized on the grid.\"\"\"\n",
    "    if isinstance(agent, PlayerAgent):\n",
    "        return {\n",
    "\n",
    "        }"
   ]
  },
  {
   "cell_type": "code",
   "execution_count": 8,
   "id": "4aad46c0-d835-458e-93e9-9b7e7723f60a",
   "metadata": {},
   "outputs": [],
   "source": [
    "model_params = {\n",
    "    \"num_players\": 2  # Default number of players; can be modified in the visualization\n",
    "}"
   ]
  },
  {
   "cell_type": "code",
   "execution_count": 9,
   "id": "c3551a24-a66e-47e8-8cb6-e0d65294e679",
   "metadata": {},
   "outputs": [
    {
     "name": "stdout",
     "output_type": "stream",
     "text": [
      "Player 1 created\n",
      "Player 2 created\n"
     ]
    }
   ],
   "source": [
    "# Create initial model instance\n",
    "model1 = SnakeAndLaddersModel(num_players=2) #keyword arguments\n",
    "\n",
    "SpaceGraph = make_space_component(agent_portrayal)"
   ]
  },
  {
   "cell_type": "code",
   "execution_count": 10,
   "id": "864ca120-5b71-43ac-9ab6-4df2569fab4a",
   "metadata": {},
   "outputs": [
    {
     "data": {
      "application/vnd.jupyter.widget-view+json": {
       "model_id": "781bf47b504c46a4804cdb9f53c8bedc",
       "version_major": 2,
       "version_minor": 0
      },
      "text/html": [
       "Cannot show widget. You probably want to rerun the code cell above (<i>Click in the code cell, and press Shift+Enter <kbd>⇧</kbd>+<kbd>↩</kbd></i>)."
      ],
      "text/plain": [
       "Cannot show ipywidgets in text"
      ]
     },
     "metadata": {},
     "output_type": "display_data"
    }
   ],
   "source": [
    "page = SolaraViz(\n",
    "    model1,\n",
    "    components=[SpaceGraph],\n",
    "    model_params=model_params,\n",
    "    name=\"Snake N Ladders Model\",\n",
    ")\n",
    "# This is required to render the visualization in the Jupyter notebook\n",
    "page"
   ]
  },
  {
   "cell_type": "code",
   "execution_count": null,
   "id": "b211d6bd-7bd6-4271-a953-311b02d8d333",
   "metadata": {},
   "outputs": [],
   "source": []
  }
 ],
 "metadata": {
  "kernelspec": {
   "display_name": "Python 3 (ipykernel)",
   "language": "python",
   "name": "python3"
  },
  "language_info": {
   "codemirror_mode": {
    "name": "ipython",
    "version": 3
   },
   "file_extension": ".py",
   "mimetype": "text/x-python",
   "name": "python",
   "nbconvert_exporter": "python",
   "pygments_lexer": "ipython3",
   "version": "3.11.7"
  }
 },
 "nbformat": 4,
 "nbformat_minor": 5
}
